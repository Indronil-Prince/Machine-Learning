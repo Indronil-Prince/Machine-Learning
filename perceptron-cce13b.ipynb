{
 "cells": [
  {
   "cell_type": "code",
   "execution_count": 1,
   "metadata": {
    "_cell_guid": "b1076dfc-b9ad-4769-8c92-a6c4dae69d19",
    "_uuid": "8f2839f25d086af736a60e9eeb907d3b93b6e0e5"
   },
   "outputs": [
    {
     "name": "stdout",
     "output_type": "stream",
     "text": [
      "['iris.data.csv']\n"
     ]
    }
   ],
   "source": [
    "# This Python 3 environment comes with many helpful analytics libraries installed\n",
    "# It is defined by the kaggle/python docker image: https://github.com/kaggle/docker-python\n",
    "# For example, here's several helpful packages to load in \n",
    "\n",
    "import numpy as np # linear algebra\n",
    "import pandas as pd # data processing, CSV file I/O (e.g. pd.read_csv)\n",
    "\n",
    "# Input data files are available in the \"../input/\" directory.\n",
    "# For example, running this (by clicking run or pressing Shift+Enter) will list the files in the input directory\n",
    "\n",
    "import os\n",
    "print(os.listdir(\"../input\"))\n",
    "\n",
    "# Any results you write to the current directory are saved as output."
   ]
  },
  {
   "cell_type": "code",
   "execution_count": 2,
   "metadata": {
    "_cell_guid": "79c7e3d0-c299-4dcb-8224-4455121ee9b0",
    "_uuid": "d629ff2d2480ee46fbb7e2d37f6b5fab8052498a"
   },
   "outputs": [],
   "source": [
    "import numpy as np\n",
    "\n",
    "\n",
    "class Perceptron(object):\n",
    "    \"\"\"Perceptron classifier.\n",
    "\n",
    "    Parameters\n",
    "    ------------\n",
    "    eta : float\n",
    "      Learning rate (between 0.0 and 1.0)\n",
    "    n_iter : int\n",
    "      Passes over the training dataset.\n",
    "    random_state : int\n",
    "      Random number generator seed for random weight\n",
    "      initialization.\n",
    "\n",
    "    Attributes\n",
    "    -----------\n",
    "    w_ : 1d-array\n",
    "      Weights after fitting.\n",
    "    errors_ : list\n",
    "      Number of misclassifications (updates) in each epoch.\n",
    "\n",
    "    \"\"\"\n",
    "    def __init__(self, eta=0.01, n_iter=50, random_state=1):\n",
    "        self.eta = eta\n",
    "        self.n_iter = n_iter\n",
    "        self.random_state = random_state\n",
    "\n",
    "    def fit(self, X, y):\n",
    "        \"\"\"Fit training data.\n",
    "\n",
    "        Parameters\n",
    "        ----------\n",
    "        X : {array-like}, shape = [n_samples, n_features]\n",
    "          Training vectors, where n_samples is the number of samples and\n",
    "          n_features is the number of features.\n",
    "        y : array-like, shape = [n_samples]\n",
    "          Target values.\n",
    "\n",
    "        Returns\n",
    "        -------\n",
    "        self : object\n",
    "\n",
    "        \"\"\"\n",
    "        rgen = np.random.RandomState(self.random_state)\n",
    "        self.w_ = rgen.normal(loc=0.0, scale=0.01, size=1 + X.shape[1])\n",
    "        self.errors_ = []\n",
    "\n",
    "        for _ in range(self.n_iter):\n",
    "            errors = 0\n",
    "            for xi, target in zip(X, y):\n",
    "                update = self.eta * (target - self.predict(xi))\n",
    "                self.w_[1:] += update * xi\n",
    "                self.w_[0] += update\n",
    "                errors += int(update != 0.0)\n",
    "            self.errors_.append(errors)\n",
    "        return self\n",
    "\n",
    "    def net_input(self, X):\n",
    "        \"\"\"Calculate net input\"\"\"\n",
    "        z = np.dot(X, self.w_[1:]) + self.w_[0]\n",
    "        return z\n",
    "    \n",
    "    def sigmoid(self, X): \n",
    "        a=np.exp(-self.net_input(X))\n",
    "        return (1/(1+a))\n",
    "        \n",
    "    def tanh(self, X):    \n",
    "        a=np.exp(-self.net_input(X))\n",
    "        b=np.exp(self.net_input(X))\n",
    "        return ((b-a)/(b+a))\n",
    "    \n",
    "    \n",
    "    def predict(self, X):\n",
    "        \"\"\"Return class label after unit step\"\"\"\n",
    "        return np.where(self.tanh(X) >= 0.0, 1, -1)"
   ]
  },
  {
   "cell_type": "code",
   "execution_count": 3,
   "metadata": {
    "_uuid": "68d014862b9a741f679cf222768db2ba3b8e44dc"
   },
   "outputs": [
    {
     "data": {
      "text/html": [
       "<div>\n",
       "<style scoped>\n",
       "    .dataframe tbody tr th:only-of-type {\n",
       "        vertical-align: middle;\n",
       "    }\n",
       "\n",
       "    .dataframe tbody tr th {\n",
       "        vertical-align: top;\n",
       "    }\n",
       "\n",
       "    .dataframe thead th {\n",
       "        text-align: right;\n",
       "    }\n",
       "</style>\n",
       "<table border=\"1\" class=\"dataframe\">\n",
       "  <thead>\n",
       "    <tr style=\"text-align: right;\">\n",
       "      <th></th>\n",
       "      <th>0</th>\n",
       "      <th>1</th>\n",
       "      <th>2</th>\n",
       "      <th>3</th>\n",
       "      <th>4</th>\n",
       "    </tr>\n",
       "  </thead>\n",
       "  <tbody>\n",
       "    <tr>\n",
       "      <th>0</th>\n",
       "      <td>5.1</td>\n",
       "      <td>3.5</td>\n",
       "      <td>1.4</td>\n",
       "      <td>0.2</td>\n",
       "      <td>Iris-setosa</td>\n",
       "    </tr>\n",
       "    <tr>\n",
       "      <th>1</th>\n",
       "      <td>4.9</td>\n",
       "      <td>3.0</td>\n",
       "      <td>1.4</td>\n",
       "      <td>0.2</td>\n",
       "      <td>Iris-setosa</td>\n",
       "    </tr>\n",
       "    <tr>\n",
       "      <th>2</th>\n",
       "      <td>4.7</td>\n",
       "      <td>3.2</td>\n",
       "      <td>1.3</td>\n",
       "      <td>0.2</td>\n",
       "      <td>Iris-setosa</td>\n",
       "    </tr>\n",
       "    <tr>\n",
       "      <th>3</th>\n",
       "      <td>4.6</td>\n",
       "      <td>3.1</td>\n",
       "      <td>1.5</td>\n",
       "      <td>0.2</td>\n",
       "      <td>Iris-setosa</td>\n",
       "    </tr>\n",
       "    <tr>\n",
       "      <th>4</th>\n",
       "      <td>5.0</td>\n",
       "      <td>3.6</td>\n",
       "      <td>1.4</td>\n",
       "      <td>0.2</td>\n",
       "      <td>Iris-setosa</td>\n",
       "    </tr>\n",
       "  </tbody>\n",
       "</table>\n",
       "</div>"
      ],
      "text/plain": [
       "     0    1    2    3            4\n",
       "0  5.1  3.5  1.4  0.2  Iris-setosa\n",
       "1  4.9  3.0  1.4  0.2  Iris-setosa\n",
       "2  4.7  3.2  1.3  0.2  Iris-setosa\n",
       "3  4.6  3.1  1.5  0.2  Iris-setosa\n",
       "4  5.0  3.6  1.4  0.2  Iris-setosa"
      ]
     },
     "execution_count": 3,
     "metadata": {},
     "output_type": "execute_result"
    }
   ],
   "source": [
    "import pandas as pd\n",
    "\n",
    "df = pd.read_csv('../input/iris.data.csv', header=None)\n",
    "df.head()"
   ]
  },
  {
   "cell_type": "code",
   "execution_count": 4,
   "metadata": {
    "_uuid": "435f05e39275189555dc02d533a3f96012c4c6ba"
   },
   "outputs": [
    {
     "data": {
      "image/png": "[encoded data removed]",
      "text/plain": [
       "<Figure size 432x288 with 1 Axes>"
      ]
     },
     "metadata": {},
     "output_type": "display_data"
    }
   ],
   "source": [
    "%matplotlib inline\n",
    "import matplotlib.pyplot as plt\n",
    "import numpy as np\n",
    "\n",
    "# select setosa and versicolor\n",
    "y = df.iloc[0:100, 4].values\n",
    "y = np.where(y == 'Iris-setosa', -1, 1)\n",
    "\n",
    "# extract sepal length and petal length\n",
    "X = df.iloc[0:100, [0, 2]].values\n",
    "\n",
    "# plot data\n",
    "plt.scatter(X[:50, 0], X[:50, 1],\n",
    "            color='red', marker='x', label='setosa')\n",
    "plt.scatter(X[50:100, 0], X[50:100, 1],\n",
    "            color='blue', marker='o', label='versicolor')\n",
    "\n",
    "plt.xlabel('sepal length [cm]')\n",
    "plt.ylabel('petal length [cm]')\n",
    "plt.legend(loc='upper left')\n",
    "\n",
    "# plt.savefig('images/02_06.png', dpi=300)\n",
    "plt.show()"
   ]
  },
  {
   "cell_type": "code",
   "execution_count": 5,
   "metadata": {
    "_uuid": "0c1afc9edb562ba731d911c1d64082d1d89b647f"
   },
   "outputs": [
    {
     "data": {
      "image/png": "[encoded data removed]",
      "text/plain": [
       "<Figure size 432x288 with 1 Axes>"
      ]
     },
     "metadata": {},
     "output_type": "display_data"
    }
   ],
   "source": [
    "ppn = Perceptron(eta=0.1, n_iter=10)\n",
    "\n",
    "ppn.fit(X, y)\n",
    "\n",
    "plt.plot(range(1, len(ppn.errors_) + 1), ppn.errors_, marker='o')\n",
    "plt.xlabel('Epochs')\n",
    "plt.ylabel('Number of updates')\n",
    "\n",
    "# plt.savefig('images/02_07.png', dpi=300)\n",
    "plt.show()"
   ]
  },
  {
   "cell_type": "code",
   "execution_count": 6,
   "metadata": {
    "_uuid": "db5c3874f1ac2b8e5472111d446a08c2661a3d9b"
   },
   "outputs": [],
   "source": [
    "from matplotlib.colors import ListedColormap\n",
    "\n",
    "\n",
    "def plot_decision_regions(X, y, classifier, resolution=0.02):\n",
    "\n",
    "    # setup marker generator and color map\n",
    "    markers = ('s', 'x', 'o', '^', 'v')\n",
    "    colors = ('red', 'blue', 'lightgreen', 'gray', 'cyan')\n",
    "    cmap = ListedColormap(colors[:len(np.unique(y))])\n",
    "\n",
    "    # plot the decision surface\n",
    "    x1_min, x1_max = X[:, 0].min() - 1, X[:, 0].max() + 1\n",
    "    x2_min, x2_max = X[:, 1].min() - 1, X[:, 1].max() + 1\n",
    "    xx1, xx2 = np.meshgrid(np.arange(x1_min, x1_max, resolution),\n",
    "                           np.arange(x2_min, x2_max, resolution))\n",
    "    Z = classifier.predict(np.array([xx1.ravel(), xx2.ravel()]).T)\n",
    "    Z = Z.reshape(xx1.shape)\n",
    "    plt.contourf(xx1, xx2, Z, alpha=0.3, cmap=cmap)\n",
    "    plt.xlim(xx1.min(), xx1.max())\n",
    "    plt.ylim(xx2.min(), xx2.max())\n",
    "\n",
    "    # plot class samples\n",
    "    for idx, cl in enumerate(np.unique(y)):\n",
    "        plt.scatter(x=X[y == cl, 0], \n",
    "                    y=X[y == cl, 1],\n",
    "                    alpha=0.8, \n",
    "                    c=colors[idx],\n",
    "                    marker=markers[idx], \n",
    "                    label=cl, \n",
    "                    edgecolor='black')"
   ]
  },
  {
   "cell_type": "code",
   "execution_count": 7,
   "metadata": {
    "_uuid": "b01cdc97b392bf211f21b1a21bbb5042f26418ce"
   },
   "outputs": [
    {
     "data": {
      "image/png": "[encoded data removed]",
      "text/plain": [
       "<Figure size 432x288 with 1 Axes>"
      ]
     },
     "metadata": {},
     "output_type": "display_data"
    }
   ],
   "source": [
    "plot_decision_regions(X, y, classifier=ppn)\n",
    "plt.xlabel('sepal length [cm]')\n",
    "plt.ylabel('petal length [cm]')\n",
    "plt.legend(loc='upper left')\n",
    "\n",
    "\n",
    "# plt.savefig('images/02_08.png', dpi=300)\n",
    "plt.show()"
   ]
  },
  {
   "cell_type": "code",
   "execution_count": 8,
   "metadata": {
    "_uuid": "b535fb69c0f53d6704b223c0dd203b95b8e02683"
   },
   "outputs": [],
   "source": [
    "ppn=Perceptron(0.01,50,1)"
   ]
  },
  {
   "cell_type": "code",
   "execution_count": 9,
   "metadata": {
    "_uuid": "f562db414ad84425890ee29b307679d5f42a3735"
   },
   "outputs": [
    {
     "data": {
      "text/plain": [
       "<__main__.Perceptron at 0x7f2e91ce7710>"
      ]
     },
     "execution_count": 9,
     "metadata": {},
     "output_type": "execute_result"
    }
   ],
   "source": [
    "ppn.fit(X,y)"
   ]
  },
  {
   "cell_type": "code",
   "execution_count": 10,
   "metadata": {
    "_uuid": "b36a86998c9ae1a20db7e69f6296498e473dbe6b"
   },
   "outputs": [
    {
     "data": {
      "text/plain": [
       "array([-1, -1, -1, -1, -1, -1, -1, -1, -1, -1, -1, -1, -1, -1, -1, -1, -1,\n",
       "       -1, -1, -1, -1, -1, -1, -1, -1, -1, -1, -1, -1, -1, -1, -1, -1, -1,\n",
       "       -1, -1, -1, -1, -1, -1, -1, -1, -1, -1, -1, -1, -1, -1, -1, -1,  1,\n",
       "        1,  1,  1,  1,  1,  1,  1,  1,  1,  1,  1,  1,  1,  1,  1,  1,  1,\n",
       "        1,  1,  1,  1,  1,  1,  1,  1,  1,  1,  1,  1,  1,  1,  1,  1,  1,\n",
       "        1,  1,  1,  1,  1,  1,  1,  1,  1,  1,  1,  1,  1,  1,  1])"
      ]
     },
     "execution_count": 10,
     "metadata": {},
     "output_type": "execute_result"
    }
   ],
   "source": [
    "ppn.predict(X)"
   ]
  },
  {
   "cell_type": "code",
   "execution_count": 11,
   "metadata": {
    "_uuid": "793f7b16bd1c9fce733ad00a85089e82cc145281"
   },
   "outputs": [
    {
     "data": {
      "text/plain": [
       "array([-0.13395053, -0.11992702, -0.12357533, -0.08121992, -0.12693877,\n",
       "       -0.10197031, -0.09889175, -0.10926694, -0.08486823, -0.10225519,\n",
       "       -0.13731397, -0.0775716 , -0.11291526, -0.13087196, -0.21837648,\n",
       "       -0.15834924, -0.17265763, -0.13395053, -0.12300558, -0.1162787 ,\n",
       "       -0.10197031, -0.1162787 , -0.16957906, -0.08093504, -0.02455612,\n",
       "       -0.09159512, -0.09159512, -0.12329046, -0.14096228, -0.07055985,\n",
       "       -0.0775716 , -0.13731397, -0.12329046, -0.16199755, -0.10225519,\n",
       "       -0.16228243, -0.17966938, -0.10225519, -0.10254006, -0.1162787 ,\n",
       "       -0.1446106 , -0.10955182, -0.10254006, -0.09159512, -0.04559139,\n",
       "       -0.11291526, -0.09860687, -0.09889175, -0.13030221, -0.12693877,\n",
       "        0.31599643,  0.32272331,  0.35835185,  0.29746998,  0.33338339,\n",
       "        0.37180561,  0.36507873,  0.21583772,  0.32637163,  0.30083342,\n",
       "        0.24416962,  0.30476661,  0.2624112 ,  0.37910224,  0.21977091,\n",
       "        0.28401622,  0.37881737,  0.29410654,  0.33674683,  0.2727864 ,\n",
       "        0.41079758,  0.25539944,  0.40042238,  0.37910224,  0.28737966,\n",
       "        0.29102797,  0.34769177,  0.39004719,  0.35077034,  0.19508733,\n",
       "        0.26212632,  0.2444545 ,  0.25876288,  0.45680131,  0.39284088,\n",
       "        0.35077034,  0.3370317 ,  0.31206324,  0.30813005,  0.29746998,\n",
       "        0.36815729,  0.36143041,  0.27643471,  0.20882597,  0.32580188,\n",
       "        0.31879012,  0.31879012,  0.30140317,  0.14879872,  0.3011183 ])"
      ]
     },
     "execution_count": 11,
     "metadata": {},
     "output_type": "execute_result"
    }
   ],
   "source": [
    "ppn.net_input(X)"
   ]
  },
  {
   "cell_type": "code",
   "execution_count": 12,
   "metadata": {
    "_uuid": "3388bd11707deb55c83e458aaf3c0a67e7fd19c2",
    "scrolled": true
   },
   "outputs": [
    {
     "data": {
      "text/plain": [
       "array([0.46656235, 0.47005413, 0.46914542, 0.47970618, 0.46830785,\n",
       "       0.47452949, 0.47529719, 0.47271041, 0.47879567, 0.47445845,\n",
       "       0.46572535, 0.48061682, 0.47180114, 0.46732863, 0.44562181,\n",
       "       0.4604952 , 0.4569425 , 0.46656235, 0.46928732, 0.47096303,\n",
       "       0.47452949, 0.47096303, 0.45770654, 0.47977728, 0.49386128,\n",
       "       0.47711722, 0.47711722, 0.46921637, 0.46481767, 0.48236735,\n",
       "       0.48061682, 0.46572535, 0.46921637, 0.45958895, 0.47445845,\n",
       "       0.4595182 , 0.4552031 , 0.47445845, 0.47438742, 0.47096303,\n",
       "       0.46391022, 0.4726394 , 0.47438742, 0.47711722, 0.48860413,\n",
       "       0.47180114, 0.47536824, 0.47529719, 0.46747046, 0.46830785,\n",
       "       0.57834824, 0.5799878 , 0.5886414 , 0.57382392, 0.58258238,\n",
       "       0.59189521, 0.59026929, 0.55375092, 0.58087628, 0.57464624,\n",
       "       0.56074093, 0.57560734, 0.56522893, 0.59365656, 0.55472265,\n",
       "       0.57053058, 0.59358783, 0.57300118, 0.58340007, 0.56777683,\n",
       "       0.60127911, 0.56350504, 0.59878914, 0.59365656, 0.57135451,\n",
       "       0.57224778, 0.58605773, 0.59629406, 0.58680437, 0.54861773,\n",
       "       0.56515892, 0.5608111 , 0.56433216, 0.61225508, 0.5969664 ,\n",
       "       0.58680437, 0.58346931, 0.5773888 , 0.57642876, 0.57382392,\n",
       "       0.59101364, 0.58938665, 0.56867193, 0.5520176 , 0.58073756,\n",
       "       0.57902937, 0.57902937, 0.5747855 , 0.5371312 , 0.57471587])"
      ]
     },
     "execution_count": 12,
     "metadata": {},
     "output_type": "execute_result"
    }
   ],
   "source": [
    "ppn.sigmoid(X)"
   ]
  },
  {
   "cell_type": "code",
   "execution_count": 13,
   "metadata": {
    "_uuid": "e66d8199caa220bf3044cc4538cc174caa4a96f2"
   },
   "outputs": [
    {
     "data": {
      "text/plain": [
       "array([-0.13315509, -0.11935535, -0.12295012, -0.08104179, -0.12626133,\n",
       "       -0.10161835, -0.09857063, -0.10883415, -0.08466506, -0.10190027,\n",
       "       -0.1364574 , -0.07741638, -0.11243781, -0.13012988, -0.21497011,\n",
       "       -0.15703887, -0.17096216, -0.13315509, -0.12238894, -0.11575746,\n",
       "       -0.10161835, -0.11575746, -0.16797201, -0.08075878, -0.02455118,\n",
       "       -0.09133982, -0.09133982, -0.12266954, -0.14003599, -0.07044298,\n",
       "       -0.07741638, -0.1364574 , -0.12266954, -0.16059516, -0.10190027,\n",
       "       -0.16087268, -0.17776072, -0.10190027, -0.10218218, -0.11575746,\n",
       "       -0.14361092, -0.10911565, -0.10218218, -0.09133982, -0.04555982,\n",
       "       -0.11243781, -0.09828851, -0.09857063, -0.12956973, -0.12626133,\n",
       "        0.3058824 ,  0.31196728,  0.34376147,  0.2889956 ,  0.32155762,\n",
       "        0.35557005,  0.34967965,  0.21254736,  0.31525677,  0.29207512,\n",
       "        0.23943025,  0.29566863,  0.25654942,  0.36192756,  0.2162997 ,\n",
       "        0.27661809,  0.36167998,  0.28591008,  0.32457001,  0.26621567,\n",
       "        0.38914969,  0.24998747,  0.38031031,  0.36192756,  0.27972127,\n",
       "        0.28308068,  0.3343269 ,  0.37140091,  0.33705854,  0.19264949,\n",
       "        0.25628328,  0.23969877,  0.25313805,  0.42747361,  0.37380674,\n",
       "        0.33705854,  0.32482485,  0.30231294,  0.29873498,  0.2889956 ,\n",
       "        0.35237887,  0.34647336,  0.26960213,  0.20584248,  0.31474355,\n",
       "        0.30841254,  0.30841254,  0.29259618,  0.14771018,  0.29233567])"
      ]
     },
     "execution_count": 13,
     "metadata": {},
     "output_type": "execute_result"
    }
   ],
   "source": [
    "ppn.tanh(X)"
   ]
  },
  {
   "cell_type": "code",
   "execution_count": 14,
   "metadata": {
    "_uuid": "76e9920541ccd7ee1788d1ebebb2687e5cc223b5"
   },
   "outputs": [],
   "source": []
  },
  {
   "cell_type": "code",
   "execution_count": 14,
   "metadata": {
    "_uuid": "db662b52df692045008d0a8ad504b71e5053ddd1"
   },
   "outputs": [],
   "source": []
  }
 ],
 "metadata": {
  "kernelspec": {
   "display_name": "Python 3",
   "language": "python",
   "name": "python3"
  },
  "language_info": {
   "codemirror_mode": {
    "name": "ipython",
    "version": 3
   },
   "file_extension": ".py",
   "mimetype": "text/x-python",
   "name": "python",
   "nbconvert_exporter": "python",
   "pygments_lexer": "ipython3",
   "version": "3.6.6"
  }
 },
 "nbformat": 4,
 "nbformat_minor": 1
}
